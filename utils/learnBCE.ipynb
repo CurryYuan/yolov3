{
 "cells": [
  {
   "cell_type": "code",
   "execution_count": 2,
   "metadata": {},
   "outputs": [
    {
     "name": "stdout",
     "output_type": "stream",
     "text": [
      "输入为5类:\n",
      "tensor([[ 1.7827,  0.3490,  1.0290,  1.7640, -0.2071]], requires_grad=True)\n",
      "要计算loss的类别:\n",
      "tensor([4])\n",
      "计算loss的结果:\n",
      "tensor(3.0291, grad_fn=<NllLossBackward>)\n"
     ]
    }
   ],
   "source": [
    "import torch\n",
    "import torch.nn as nn\n",
    "import math\n",
    "loss = nn.CrossEntropyLoss()\n",
    "input = torch.randn(1, 5, requires_grad=True)\n",
    "target = torch.empty(1, dtype=torch.long).random_(5)\n",
    "output = loss(input, target)\n",
    "\n",
    "print(\"输入为5类:\")\n",
    "print(input)\n",
    "print(\"要计算loss的类别:\")\n",
    "print(target)\n",
    "print(\"计算loss的结果:\")\n",
    "print(output)\n"
   ]
  },
  {
   "cell_type": "code",
   "execution_count": 3,
   "metadata": {},
   "outputs": [
    {
     "name": "stdout",
     "output_type": "stream",
     "text": [
      "自己的计算结果：\n",
      "tensor(3.0291, grad_fn=<AddBackward0>)\n"
     ]
    }
   ],
   "source": [
    "first = 0\n",
    "for i in range(1):\n",
    "    first -= input[i][target[i]]\n",
    "second = 0\n",
    "for i in range(1):\n",
    "    for j in range(5):\n",
    "        second += math.exp(input[i][j])\n",
    "res = 0\n",
    "res += first +math.log(second)\n",
    "print(\"自己的计算结果：\")\n",
    "print(res)\n"
   ]
  },
  {
   "cell_type": "code",
   "execution_count": 4,
   "metadata": {},
   "outputs": [
    {
     "name": "stdout",
     "output_type": "stream",
     "text": [
      "输入为3个5类:\n",
      "tensor([[-0.5698, -0.4868,  0.2832, -0.4331,  1.0972],\n",
      "        [ 0.0873,  0.0293, -0.3204,  0.4906,  0.9907],\n",
      "        [ 1.0224,  0.1194,  1.3856, -0.1639,  1.5274]], requires_grad=True)\n",
      "要计算loss的类别:\n",
      "tensor([3, 4, 2])\n",
      "计算loss的结果:\n",
      "tensor(1.4787, grad_fn=<NllLossBackward>)\n"
     ]
    }
   ],
   "source": [
    "import torch\n",
    "import torch.nn as nn\n",
    "import math\n",
    "loss = nn.CrossEntropyLoss()\n",
    "input = torch.randn(3, 5, requires_grad=True)\n",
    "target = torch.empty(3, dtype=torch.long).random_(5)\n",
    "output = loss(input, target)\n",
    "\n",
    "print(\"输入为3个5类:\")\n",
    "print(input)\n",
    "print(\"要计算loss的类别:\")\n",
    "print(target)\n",
    "print(\"计算loss的结果:\")\n",
    "print(output)\n"
   ]
  },
  {
   "cell_type": "code",
   "execution_count": 5,
   "metadata": {},
   "outputs": [
    {
     "name": "stdout",
     "output_type": "stream",
     "text": [
      "自己的计算结果：\n",
      "tensor(1.4787, grad_fn=<DivBackward0>)\n"
     ]
    }
   ],
   "source": [
    "first = [0,0,0]\n",
    "for i in range(3):\n",
    "    first[i] -= input[i][target[i]]\n",
    "second = [0,0,0]\n",
    "for i in range(3):\n",
    "    for j in range(5):\n",
    "        second[i] += math.exp(input[i][j])\n",
    "res = 0\n",
    "for i in range(3):\n",
    "    res += first[i] +math.log(second[i])\n",
    "print(\"自己的计算结果：\")\n",
    "print(res/3)"
   ]
  },
  {
   "cell_type": "markdown",
   "metadata": {},
   "source": [
    "--------------------- \n",
    "作者：tmk_01 \n",
    "来源：CSDN \n",
    "原文：https://blog.csdn.net/tmk_01/article/details/80839810 \n",
    "版权声明：本文为博主原创文章，转载请附上博文链接！"
   ]
  }
 ],
 "metadata": {
  "kernelspec": {
   "display_name": "Python 3",
   "language": "python",
   "name": "python3"
  },
  "language_info": {
   "codemirror_mode": {
    "name": "ipython",
    "version": 3
   },
   "file_extension": ".py",
   "mimetype": "text/x-python",
   "name": "python",
   "nbconvert_exporter": "python",
   "pygments_lexer": "ipython3",
   "version": "3.6.7"
  }
 },
 "nbformat": 4,
 "nbformat_minor": 2
}
